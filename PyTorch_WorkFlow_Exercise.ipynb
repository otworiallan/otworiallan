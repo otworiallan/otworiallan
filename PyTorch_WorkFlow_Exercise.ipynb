{
  "cells": [
    {
      "cell_type": "markdown",
      "metadata": {
        "id": "view-in-github",
        "colab_type": "text"
      },
      "source": [
        "<a href=\"https://colab.research.google.com/github/otworiallan/otworiallan/blob/main/PyTorch_WorkFlow_Exercise.ipynb\" target=\"_parent\"><img src=\"https://colab.research.google.com/assets/colab-badge.svg\" alt=\"Open In Colab\"/></a>"
      ]
    },
    {
      "cell_type": "code",
      "execution_count": 138,
      "metadata": {
        "id": "jnEAfS-Qv9h5"
      },
      "outputs": [],
      "source": [
        "import torch\n",
        "from torch import nn\n",
        "\n",
        "import numpy as np\n",
        "import matplotlib.pyplot as plt"
      ]
    },
    {
      "cell_type": "code",
      "execution_count": 139,
      "metadata": {
        "colab": {
          "base_uri": "https://localhost:8080/"
        },
        "id": "ho4DueYL8lO3",
        "outputId": "6b34404f-a0a6-4c35-c9aa-9cdd32210c73"
      },
      "outputs": [
        {
          "output_type": "execute_result",
          "data": {
            "text/plain": [
              "160"
            ]
          },
          "metadata": {},
          "execution_count": 139
        }
      ],
      "source": [
        "device = \"cuda\" if torch.cuda.is_available() else \"cpu\"\n",
        "\n",
        "weight = 0.3\n",
        "bias = 0.9\n",
        "\n",
        "start = 0\n",
        "end = 2\n",
        "step = 0.01\n",
        "\n",
        "X = torch.arange(start, end, step).unsqueeze(dim=1)\n",
        "y = weight * X + bias\n",
        "\n",
        "train_split = int(0.8 * len(X))\n",
        "train_split"
      ]
    },
    {
      "cell_type": "code",
      "execution_count": 140,
      "metadata": {
        "colab": {
          "base_uri": "https://localhost:8080/"
        },
        "id": "RgsBN_eB8nqA",
        "outputId": "d4ce6af0-5153-46b1-c4eb-51a592d89eb8"
      },
      "outputs": [
        {
          "output_type": "execute_result",
          "data": {
            "text/plain": [
              "torch.float32"
            ]
          },
          "metadata": {},
          "execution_count": 140
        }
      ],
      "source": [
        "X_train = X[:train_split:].type(torch.float).to(device)\n",
        "y_train = y[:train_split:].type(torch.float).to(device)\n",
        "X_test = X[train_split::].type(torch.float).to(device)\n",
        "y_test = y[train_split::].type(torch.float).to(device)\n",
        "X_train.dtype"
      ]
    },
    {
      "cell_type": "code",
      "execution_count": 141,
      "metadata": {
        "id": "Pu-mQgSpAgov"
      },
      "outputs": [],
      "source": [
        "def plot_predictions(train_data=X_train.cpu(), train_label=y_train.cpu(),\n",
        "                     test_data=X_test.cpu(), test_label=y_test.cpu(),\n",
        "                     predictions=None):\n",
        "    \"\"\"\n",
        "    Plots training data, test data and compares predictions\n",
        "    \"\"\"\n",
        "\n",
        "    plt.figure(figsize=(12,7))\n",
        "\n",
        "    plt.scatter(train_data, train_label, c=\"b\", s=4, label=\"Training Data\")\n",
        "\n",
        "    plt.scatter(test_data, test_label, c=\"g\", s=4, label=\"Test data\")\n",
        "\n",
        "    if predictions is not None:\n",
        "        plt.scatter(test_data, predictions, c=\"r\", s=4, label=\"Predictions\")\n",
        "\n"
      ]
    },
    {
      "cell_type": "code",
      "execution_count": 142,
      "metadata": {
        "colab": {
          "base_uri": "https://localhost:8080/",
          "height": 599
        },
        "id": "0yRL71BnDVcd",
        "outputId": "b30ed226-2d61-42ce-fbca-db984ed1b369"
      },
      "outputs": [
        {
          "output_type": "display_data",
          "data": {
            "text/plain": [
              "<Figure size 1200x700 with 1 Axes>"
            ],
            "image/png": "[encoded data removed]"
          },
          "metadata": {}
        }
      ],
      "source": [
        "plot_predictions()"
      ]
    },
    {
      "cell_type": "code",
      "execution_count": 143,
      "metadata": {
        "id": "JgAoQfq4DYgB"
      },
      "outputs": [],
      "source": [
        "class LinearRegressionModel(nn.Module):\n",
        "    def __init__(self):\n",
        "        super().__init__()\n",
        "\n",
        "        torch.manual_seed(0)\n",
        "        self.linear_layer = nn.Linear(in_features=1, out_features=1,\n",
        "                                      dtype=torch.float)\n",
        "\n",
        "    def forward(self, x: torch.Tensor) -> torch.Tensor:\n",
        "        return self.linear_layer(x)\n"
      ]
    },
    {
      "cell_type": "code",
      "execution_count": 144,
      "metadata": {
        "colab": {
          "base_uri": "https://localhost:8080/"
        },
        "id": "Ds-o7oQhLvdk",
        "outputId": "56fb5796-0b32-4905-ff4f-01952770a7ee"
      },
      "outputs": [
        {
          "output_type": "execute_result",
          "data": {
            "text/plain": [
              "LinearRegressionModel(\n",
              "  (linear_layer): Linear(in_features=1, out_features=1, bias=True)\n",
              ")"
            ]
          },
          "metadata": {},
          "execution_count": 144
        }
      ],
      "source": [
        "model = LinearRegressionModel()\n",
        "model.to(device)"
      ]
    },
    {
      "cell_type": "code",
      "execution_count": 145,
      "metadata": {
        "id": "Fk7pgow8L88m"
      },
      "outputs": [],
      "source": [
        "loss = nn.L1Loss(reduction=\"mean\")\n",
        "optimizer = torch.optim.SGD(params=model.parameters(), lr=0.01)\n",
        "\n"
      ]
    },
    {
      "cell_type": "code",
      "execution_count": 146,
      "metadata": {
        "id": "B_z63AYBMRkn"
      },
      "outputs": [],
      "source": [
        "def train_loop(epochs):\n",
        "    for epoch in range(epochs):\n",
        "        model.train()\n",
        "        y_preds = model(X_train)\n",
        "        train_loss = loss(y_preds, y_train)\n",
        "        optimizer.zero_grad()\n",
        "        train_loss.backward()\n",
        "        optimizer.step()\n",
        "\n",
        "        if epoch % 20 == 0:\n",
        "            print(f\"Epoch: {epoch} -> Loss: {train_loss}\")\n",
        "\n"
      ]
    },
    {
      "cell_type": "code",
      "execution_count": 147,
      "metadata": {
        "colab": {
          "base_uri": "https://localhost:8080/"
        },
        "id": "hlTVtwBzqbfF",
        "outputId": "1e5804fa-43df-448a-efce-f728584177d4"
      },
      "outputs": [
        {
          "output_type": "execute_result",
          "data": {
            "text/plain": [
              "OrderedDict([('linear_layer.weight', tensor([[-0.0075]], device='cuda:0')),\n",
              "             ('linear_layer.bias', tensor([0.5364], device='cuda:0'))])"
            ]
          },
          "metadata": {},
          "execution_count": 147
        }
      ],
      "source": [
        "model.state_dict()"
      ]
    },
    {
      "cell_type": "code",
      "execution_count": 161,
      "metadata": {
        "id": "hsY3lH9ANCD4"
      },
      "outputs": [],
      "source": [
        "def test_loop():\n",
        "    model.eval()\n",
        "    with torch.inference_mode():\n",
        "        return model(X_test)\n"
      ]
    },
    {
      "cell_type": "code",
      "execution_count": 149,
      "metadata": {
        "colab": {
          "base_uri": "https://localhost:8080/"
        },
        "id": "X-LxshwpOB6K",
        "outputId": "cab64d60-88a7-40e1-8dce-858bdd617033"
      },
      "outputs": [
        {
          "output_type": "stream",
          "name": "stdout",
          "text": [
            "Epoch: 0 -> Loss: 0.6080083847045898\n",
            "Epoch: 20 -> Loss: 0.2816036343574524\n",
            "Epoch: 40 -> Loss: 0.005812705960124731\n",
            "Epoch: 60 -> Loss: 0.005812705960124731\n",
            "Epoch: 80 -> Loss: 0.005812705960124731\n",
            "Epoch: 100 -> Loss: 0.005812705960124731\n",
            "Epoch: 120 -> Loss: 0.005812705960124731\n",
            "Epoch: 140 -> Loss: 0.005812705960124731\n",
            "Epoch: 160 -> Loss: 0.005812705960124731\n",
            "Epoch: 180 -> Loss: 0.005812705960124731\n",
            "Epoch: 200 -> Loss: 0.005812705960124731\n",
            "Epoch: 220 -> Loss: 0.005812705960124731\n",
            "Epoch: 240 -> Loss: 0.005812705960124731\n",
            "Epoch: 260 -> Loss: 0.005812705960124731\n",
            "Epoch: 280 -> Loss: 0.005812705960124731\n"
          ]
        }
      ],
      "source": [
        "train_loop(epochs=300)"
      ]
    },
    {
      "cell_type": "code",
      "execution_count": 150,
      "metadata": {
        "colab": {
          "base_uri": "https://localhost:8080/"
        },
        "id": "zCMOWRiYUNVq",
        "outputId": "74c5cc72-7270-4495-9db6-fb61f4f7e0bf"
      },
      "outputs": [
        {
          "output_type": "execute_result",
          "data": {
            "text/plain": [
              "OrderedDict([('linear_layer.weight', tensor([[0.2948]], device='cuda:0')),\n",
              "             ('linear_layer.bias', tensor([0.9099], device='cuda:0'))])"
            ]
          },
          "metadata": {},
          "execution_count": 150
        }
      ],
      "source": [
        "model.state_dict()"
      ]
    },
    {
      "cell_type": "code",
      "execution_count": 162,
      "metadata": {
        "colab": {
          "base_uri": "https://localhost:8080/"
        },
        "id": "GbbweloJXfH2",
        "outputId": "da57b40d-50e6-4e4a-bd1b-42b2f89877eb"
      },
      "outputs": [
        {
          "output_type": "execute_result",
          "data": {
            "text/plain": [
              "tensor([[1.3816],\n",
              "        [1.3846],\n",
              "        [1.3875],\n",
              "        [1.3905],\n",
              "        [1.3934],\n",
              "        [1.3964],\n",
              "        [1.3993],\n",
              "        [1.4023],\n",
              "        [1.4052],\n",
              "        [1.4082],\n",
              "        [1.4111],\n",
              "        [1.4141],\n",
              "        [1.4170],\n",
              "        [1.4200],\n",
              "        [1.4229],\n",
              "        [1.4259],\n",
              "        [1.4288],\n",
              "        [1.4317],\n",
              "        [1.4347],\n",
              "        [1.4376],\n",
              "        [1.4406],\n",
              "        [1.4435],\n",
              "        [1.4465],\n",
              "        [1.4494],\n",
              "        [1.4524],\n",
              "        [1.4553],\n",
              "        [1.4583],\n",
              "        [1.4612],\n",
              "        [1.4642],\n",
              "        [1.4671],\n",
              "        [1.4701],\n",
              "        [1.4730],\n",
              "        [1.4760],\n",
              "        [1.4789],\n",
              "        [1.4819],\n",
              "        [1.4848],\n",
              "        [1.4878],\n",
              "        [1.4907],\n",
              "        [1.4937],\n",
              "        [1.4966]], device='cuda:0')"
            ]
          },
          "metadata": {},
          "execution_count": 162
        }
      ],
      "source": [
        "y_preds = test_loop()\n",
        "y_preds"
      ]
    },
    {
      "cell_type": "code",
      "execution_count": 152,
      "metadata": {
        "colab": {
          "base_uri": "https://localhost:8080/",
          "height": 599
        },
        "id": "KhLdSS15OGYU",
        "outputId": "37861f58-0381-4fc8-bbc5-baf44a991fff"
      },
      "outputs": [
        {
          "output_type": "display_data",
          "data": {
            "text/plain": [
              "<Figure size 1200x700 with 1 Axes>"
            ],
            "image/png": "[encoded data removed]"
          },
          "metadata": {}
        }
      ],
      "source": [
        "plot_predictions(predictions=y_preds)"
      ]
    },
    {
      "cell_type": "code",
      "execution_count": 153,
      "metadata": {
        "id": "1NTJd7OcRYX6"
      },
      "outputs": [],
      "source": [
        "#Saving and Loading the Model's State Dict\n",
        "\n",
        "from pathlib import Path\n",
        "\n",
        "MODEL_PATH = Path(\"models\")\n",
        "MODEL_PATH.mkdir(parents=True, exist_ok=True)\n",
        "\n",
        "MODEL_NAME = \"linear_regression_models_exercise.pth\"\n",
        "MODEL_SAVE_PATH = MODEL_PATH / MODEL_NAME\n",
        "\n",
        "torch.save(obj=model.state_dict(), f=MODEL_SAVE_PATH)"
      ]
    },
    {
      "cell_type": "code",
      "execution_count": 154,
      "metadata": {
        "colab": {
          "base_uri": "https://localhost:8080/"
        },
        "id": "6XlSZnLhw1Xr",
        "outputId": "4a894a49-7e50-4754-8d65-5e87f82ca38d"
      },
      "outputs": [
        {
          "output_type": "execute_result",
          "data": {
            "text/plain": [
              "LinearRegressionModel(\n",
              "  (linear_layer): Linear(in_features=1, out_features=1, bias=True)\n",
              ")"
            ]
          },
          "metadata": {},
          "execution_count": 154
        }
      ],
      "source": [
        "#loading a model\n",
        "loaded_model = LinearRegressionModel()\n",
        "loaded_model.to(device)"
      ]
    },
    {
      "cell_type": "code",
      "execution_count": 155,
      "metadata": {
        "colab": {
          "base_uri": "https://localhost:8080/"
        },
        "id": "Rh2xqQX8x5x_",
        "outputId": "83effa65-6096-49d9-c0d6-2aab30fff41b"
      },
      "outputs": [
        {
          "output_type": "execute_result",
          "data": {
            "text/plain": [
              "OrderedDict([('linear_layer.weight', tensor([[-0.0075]], device='cuda:0')),\n",
              "             ('linear_layer.bias', tensor([0.5364], device='cuda:0'))])"
            ]
          },
          "metadata": {},
          "execution_count": 155
        }
      ],
      "source": [
        "loaded_model.state_dict()"
      ]
    },
    {
      "cell_type": "code",
      "execution_count": 156,
      "metadata": {
        "colab": {
          "base_uri": "https://localhost:8080/"
        },
        "id": "T8lHzMTYx9ah",
        "outputId": "088cee1e-18fa-4fe7-b3c4-ea12f2b78fe2"
      },
      "outputs": [
        {
          "output_type": "stream",
          "name": "stderr",
          "text": [
            "<ipython-input-156-b454b0416473>:1: FutureWarning: You are using `torch.load` with `weights_only=False` (the current default value), which uses the default pickle module implicitly. It is possible to construct malicious pickle data which will execute arbitrary code during unpickling (See https://github.com/pytorch/pytorch/blob/main/SECURITY.md#untrusted-models for more details). In a future release, the default value for `weights_only` will be flipped to `True`. This limits the functions that could be executed during unpickling. Arbitrary objects will no longer be allowed to be loaded via this mode unless they are explicitly allowlisted by the user via `torch.serialization.add_safe_globals`. We recommend you start setting `weights_only=True` for any use case where you don't have full control of the loaded file. Please open an issue on GitHub for any issues related to this experimental feature.\n",
            "  loaded_model.load_state_dict(torch.load(f=MODEL_SAVE_PATH))\n"
          ]
        },
        {
          "output_type": "execute_result",
          "data": {
            "text/plain": [
              "<All keys matched successfully>"
            ]
          },
          "metadata": {},
          "execution_count": 156
        }
      ],
      "source": [
        "loaded_model.load_state_dict(torch.load(f=MODEL_SAVE_PATH))"
      ]
    },
    {
      "cell_type": "code",
      "execution_count": 157,
      "metadata": {
        "colab": {
          "base_uri": "https://localhost:8080/"
        },
        "id": "9U-Xfp5_y0UZ",
        "outputId": "10f71d12-2e82-4a05-ba3e-e57c314437dc"
      },
      "outputs": [
        {
          "output_type": "execute_result",
          "data": {
            "text/plain": [
              "OrderedDict([('linear_layer.weight', tensor([[0.2948]], device='cuda:0')),\n",
              "             ('linear_layer.bias', tensor([0.9099], device='cuda:0'))])"
            ]
          },
          "metadata": {},
          "execution_count": 157
        }
      ],
      "source": [
        "loaded_model.state_dict()"
      ]
    },
    {
      "cell_type": "code",
      "execution_count": 158,
      "metadata": {
        "colab": {
          "base_uri": "https://localhost:8080/"
        },
        "id": "aAAG3X3U0bNy",
        "outputId": "ecd3d690-1211-45a6-e349-137336dab71a"
      },
      "outputs": [
        {
          "output_type": "execute_result",
          "data": {
            "text/plain": [
              "tensor([[1.3816],\n",
              "        [1.3846],\n",
              "        [1.3875],\n",
              "        [1.3905],\n",
              "        [1.3934],\n",
              "        [1.3964],\n",
              "        [1.3993],\n",
              "        [1.4023],\n",
              "        [1.4052],\n",
              "        [1.4082],\n",
              "        [1.4111],\n",
              "        [1.4141],\n",
              "        [1.4170],\n",
              "        [1.4200],\n",
              "        [1.4229],\n",
              "        [1.4259],\n",
              "        [1.4288],\n",
              "        [1.4317],\n",
              "        [1.4347],\n",
              "        [1.4376],\n",
              "        [1.4406],\n",
              "        [1.4435],\n",
              "        [1.4465],\n",
              "        [1.4494],\n",
              "        [1.4524],\n",
              "        [1.4553],\n",
              "        [1.4583],\n",
              "        [1.4612],\n",
              "        [1.4642],\n",
              "        [1.4671],\n",
              "        [1.4701],\n",
              "        [1.4730],\n",
              "        [1.4760],\n",
              "        [1.4789],\n",
              "        [1.4819],\n",
              "        [1.4848],\n",
              "        [1.4878],\n",
              "        [1.4907],\n",
              "        [1.4937],\n",
              "        [1.4966]], device='cuda:0')"
            ]
          },
          "metadata": {},
          "execution_count": 158
        }
      ],
      "source": [
        "loaded_model.eval()\n",
        "with torch.inference_mode():\n",
        "    loaded_model_preds = loaded_model(X_test)\n",
        "loaded_model_preds"
      ]
    },
    {
      "cell_type": "code",
      "execution_count": 163,
      "metadata": {
        "colab": {
          "base_uri": "https://localhost:8080/"
        },
        "id": "YAc2JYTi8oxb",
        "outputId": "519a71ed-f2e2-432b-acfc-7e1c19e61098"
      },
      "outputs": [
        {
          "output_type": "execute_result",
          "data": {
            "text/plain": [
              "tensor([[True],\n",
              "        [True],\n",
              "        [True],\n",
              "        [True],\n",
              "        [True],\n",
              "        [True],\n",
              "        [True],\n",
              "        [True],\n",
              "        [True],\n",
              "        [True],\n",
              "        [True],\n",
              "        [True],\n",
              "        [True],\n",
              "        [True],\n",
              "        [True],\n",
              "        [True],\n",
              "        [True],\n",
              "        [True],\n",
              "        [True],\n",
              "        [True],\n",
              "        [True],\n",
              "        [True],\n",
              "        [True],\n",
              "        [True],\n",
              "        [True],\n",
              "        [True],\n",
              "        [True],\n",
              "        [True],\n",
              "        [True],\n",
              "        [True],\n",
              "        [True],\n",
              "        [True],\n",
              "        [True],\n",
              "        [True],\n",
              "        [True],\n",
              "        [True],\n",
              "        [True],\n",
              "        [True],\n",
              "        [True],\n",
              "        [True]], device='cuda:0')"
            ]
          },
          "metadata": {},
          "execution_count": 163
        }
      ],
      "source": [
        "y_preds == loaded_model_preds"
      ]
    },
    {
      "cell_type": "code",
      "execution_count": 159,
      "metadata": {
        "id": "60BUS49A8sU2"
      },
      "outputs": [],
      "source": []
    }
  ],
  "metadata": {
    "accelerator": "GPU",
    "colab": {
      "gpuType": "T4",
      "provenance": [],
      "authorship_tag": "ABX9TyNXOKhyi5nxwGPC0XIRA0AI",
      "include_colab_link": true
    },
    "kernelspec": {
      "display_name": "Python 3",
      "name": "python3"
    },
    "language_info": {
      "name": "python"
    }
  },
  "nbformat": 4,
  "nbformat_minor": 0
}