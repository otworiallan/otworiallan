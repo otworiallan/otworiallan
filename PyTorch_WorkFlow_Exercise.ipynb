{
  "cells": [
    {
      "cell_type": "markdown",
      "metadata": {
        "id": "view-in-github",
        "colab_type": "text"
      },
      "source": [
        "<a href=\"https://colab.research.google.com/github/otworiallan/otworiallan/blob/main/PyTorch_WorkFlow_Exercise.ipynb\" target=\"_parent\"><img src=\"https://colab.research.google.com/assets/colab-badge.svg\" alt=\"Open In Colab\"/></a>"
      ]
    },
    {
      "cell_type": "code",
      "execution_count": 184,
      "metadata": {
        "id": "jnEAfS-Qv9h5"
      },
      "outputs": [],
      "source": [
        "import torch\n",
        "from torch import nn\n",
        "\n",
        "import numpy as np\n",
        "import matplotlib.pyplot as plt"
      ]
    },
    {
      "cell_type": "code",
      "execution_count": 185,
      "metadata": {
        "colab": {
          "base_uri": "https://localhost:8080/"
        },
        "id": "ho4DueYL8lO3",
        "outputId": "f38a4396-a88e-407d-8a72-6a1c9bfea946"
      },
      "outputs": [
        {
          "output_type": "execute_result",
          "data": {
            "text/plain": [
              "160"
            ]
          },
          "metadata": {},
          "execution_count": 185
        }
      ],
      "source": [
        "device = \"cuda\" if torch.cuda.is_available() else \"cpu\"\n",
        "\n",
        "weight = 0.3\n",
        "bias = 0.9\n",
        "\n",
        "start = 0\n",
        "end = 2\n",
        "step = 0.01\n",
        "\n",
        "X = torch.arange(start, end, step).unsqueeze(dim=1)\n",
        "y = weight * X + bias\n",
        "\n",
        "train_split = int(0.8 * len(X))\n",
        "train_split"
      ]
    },
    {
      "cell_type": "code",
      "execution_count": 186,
      "metadata": {
        "colab": {
          "base_uri": "https://localhost:8080/"
        },
        "id": "RgsBN_eB8nqA",
        "outputId": "22282342-34b8-4350-9da4-6c72c0e81366"
      },
      "outputs": [
        {
          "output_type": "execute_result",
          "data": {
            "text/plain": [
              "torch.float32"
            ]
          },
          "metadata": {},
          "execution_count": 186
        }
      ],
      "source": [
        "X_train = X[:train_split:].type(torch.float).to(device)\n",
        "y_train = y[:train_split:].type(torch.float).to(device)\n",
        "X_test = X[train_split::].type(torch.float).to(device)\n",
        "y_test = y[train_split::].type(torch.float).to(device)\n",
        "X_train.dtype"
      ]
    },
    {
      "cell_type": "code",
      "execution_count": 187,
      "metadata": {
        "id": "Pu-mQgSpAgov"
      },
      "outputs": [],
      "source": [
        "def plot_predictions(train_data=X_train.cpu(), train_label=y_train.cpu(),\n",
        "                     test_data=X_test.cpu(), test_label=y_test.cpu(),\n",
        "                     predictions=None):\n",
        "    \"\"\"\n",
        "    Plots training data, test data and compares predictions\n",
        "    \"\"\"\n",
        "\n",
        "    plt.figure(figsize=(12,7))\n",
        "\n",
        "    plt.scatter(train_data, train_label, c=\"b\", s=4, label=\"Training Data\")\n",
        "\n",
        "    plt.scatter(test_data, test_label, c=\"g\", s=4, label=\"Test data\")\n",
        "\n",
        "    if predictions is not None:\n",
        "        plt.scatter(test_data, predictions, c=\"r\", s=4, label=\"Predictions\")\n",
        "\n"
      ]
    },
    {
      "cell_type": "code",
      "execution_count": 188,
      "metadata": {
        "colab": {
          "base_uri": "https://localhost:8080/",
          "height": 599
        },
        "id": "0yRL71BnDVcd",
        "outputId": "ca2be43f-4e3e-4130-bdcf-c0e7ca93d1a7"
      },
      "outputs": [
        {
          "output_type": "display_data",
          "data": {
            "text/plain": [
              "<Figure size 1200x700 with 1 Axes>"
            ],
            "image/png": "[encoded data removed]"
          },
          "metadata": {}
        }
      ],
      "source": [
        "plot_predictions()"
      ]
    },
    {
      "cell_type": "code",
      "execution_count": 189,
      "metadata": {
        "id": "JgAoQfq4DYgB"
      },
      "outputs": [],
      "source": [
        "class LinearRegressionModel(nn.Module):\n",
        "    def __init__(self):\n",
        "        super().__init__()\n",
        "\n",
        "        torch.manual_seed(0)\n",
        "        self.linear_layer = nn.Linear(in_features=1, out_features=1,\n",
        "                                      dtype=torch.float)\n",
        "\n",
        "    def forward(self, x: torch.Tensor) -> torch.Tensor:\n",
        "        return self.linear_layer(x)\n"
      ]
    },
    {
      "cell_type": "code",
      "execution_count": 190,
      "metadata": {
        "colab": {
          "base_uri": "https://localhost:8080/"
        },
        "id": "Ds-o7oQhLvdk",
        "outputId": "a040c7d5-a846-4464-ca06-14578406aac9"
      },
      "outputs": [
        {
          "output_type": "execute_result",
          "data": {
            "text/plain": [
              "LinearRegressionModel(\n",
              "  (linear_layer): Linear(in_features=1, out_features=1, bias=True)\n",
              ")"
            ]
          },
          "metadata": {},
          "execution_count": 190
        }
      ],
      "source": [
        "model = LinearRegressionModel()\n",
        "model.to(device)"
      ]
    },
    {
      "cell_type": "code",
      "execution_count": 191,
      "metadata": {
        "id": "Fk7pgow8L88m"
      },
      "outputs": [],
      "source": [
        "loss = nn.L1Loss(reduction=\"mean\")\n",
        "optimizer = torch.optim.SGD(params=model.parameters(), lr=0.01)"
      ]
    },
    {
      "cell_type": "code",
      "execution_count": 192,
      "metadata": {
        "id": "B_z63AYBMRkn"
      },
      "outputs": [],
      "source": [
        "def train_loop(epochs):\n",
        "    for epoch in range(epochs):\n",
        "        model.train()\n",
        "        y_preds = model(X_train)\n",
        "        train_loss = loss(y_preds, y_train)\n",
        "        optimizer.zero_grad()\n",
        "        train_loss.backward()\n",
        "        optimizer.step()\n",
        "\n",
        "        if epoch % 20 == 0:\n",
        "            print(f\"Epoch: {epoch} -> Loss: {train_loss}\")\n",
        "\n"
      ]
    },
    {
      "cell_type": "code",
      "execution_count": 193,
      "metadata": {
        "colab": {
          "base_uri": "https://localhost:8080/"
        },
        "id": "hlTVtwBzqbfF",
        "outputId": "ff877cb1-2a50-4ce3-d1cc-a3cc5f6597d4"
      },
      "outputs": [
        {
          "output_type": "execute_result",
          "data": {
            "text/plain": [
              "OrderedDict([('linear_layer.weight', tensor([[-0.0075]], device='cuda:0')),\n",
              "             ('linear_layer.bias', tensor([0.5364], device='cuda:0'))])"
            ]
          },
          "metadata": {},
          "execution_count": 193
        }
      ],
      "source": [
        "model.state_dict()"
      ]
    },
    {
      "cell_type": "code",
      "execution_count": 194,
      "metadata": {
        "id": "hsY3lH9ANCD4"
      },
      "outputs": [],
      "source": [
        "def test_loop():\n",
        "    model.eval()\n",
        "    with torch.inference_mode():\n",
        "        return model(X_test)\n"
      ]
    },
    {
      "cell_type": "code",
      "execution_count": 195,
      "metadata": {
        "colab": {
          "base_uri": "https://localhost:8080/"
        },
        "id": "X-LxshwpOB6K",
        "outputId": "9e27525d-f1ee-4a2e-c820-78b8ccd518c9"
      },
      "outputs": [
        {
          "output_type": "stream",
          "name": "stdout",
          "text": [
            "Epoch: 0 -> Loss: 0.6080083847045898\n",
            "Epoch: 20 -> Loss: 0.2816036343574524\n",
            "Epoch: 40 -> Loss: 0.005812705960124731\n",
            "Epoch: 60 -> Loss: 0.005812705960124731\n",
            "Epoch: 80 -> Loss: 0.005812705960124731\n",
            "Epoch: 100 -> Loss: 0.005812705960124731\n",
            "Epoch: 120 -> Loss: 0.005812705960124731\n",
            "Epoch: 140 -> Loss: 0.005812705960124731\n",
            "Epoch: 160 -> Loss: 0.005812705960124731\n",
            "Epoch: 180 -> Loss: 0.005812705960124731\n",
            "Epoch: 200 -> Loss: 0.005812705960124731\n",
            "Epoch: 220 -> Loss: 0.005812705960124731\n",
            "Epoch: 240 -> Loss: 0.005812705960124731\n",
            "Epoch: 260 -> Loss: 0.005812705960124731\n",
            "Epoch: 280 -> Loss: 0.005812705960124731\n"
          ]
        }
      ],
      "source": [
        "train_loop(epochs=300)"
      ]
    },
    {
      "cell_type": "code",
      "execution_count": 196,
      "metadata": {
        "colab": {
          "base_uri": "https://localhost:8080/"
        },
        "id": "zCMOWRiYUNVq",
        "outputId": "998088c0-aab9-4077-dc82-7575d0946b79"
      },
      "outputs": [
        {
          "output_type": "execute_result",
          "data": {
            "text/plain": [
              "OrderedDict([('linear_layer.weight', tensor([[0.2948]], device='cuda:0')),\n",
              "             ('linear_layer.bias', tensor([0.9099], device='cuda:0'))])"
            ]
          },
          "metadata": {},
          "execution_count": 196
        }
      ],
      "source": [
        "model.state_dict()"
      ]
    },
    {
      "cell_type": "code",
      "execution_count": 197,
      "metadata": {
        "id": "GbbweloJXfH2"
      },
      "outputs": [],
      "source": [
        "y_preds = test_loop()"
      ]
    },
    {
      "cell_type": "code",
      "execution_count": 198,
      "metadata": {
        "colab": {
          "base_uri": "https://localhost:8080/",
          "height": 599
        },
        "id": "KhLdSS15OGYU",
        "outputId": "fca64698-2acd-4daa-c263-5d0a7d6fc030"
      },
      "outputs": [
        {
          "output_type": "display_data",
          "data": {
            "text/plain": [
              "<Figure size 1200x700 with 1 Axes>"
            ],
            "image/png": "[encoded data removed]"
          },
          "metadata": {}
        }
      ],
      "source": [
        "plot_predictions(predictions=y_preds.cpu())"
      ]
    },
    {
      "cell_type": "code",
      "execution_count": 199,
      "metadata": {
        "id": "1NTJd7OcRYX6"
      },
      "outputs": [],
      "source": [
        "#Saving and Loading the Model's State Dict\n",
        "\n",
        "from pathlib import Path\n",
        "\n",
        "MODEL_PATH = Path(\"models\")\n",
        "MODEL_PATH.mkdir(parents=True, exist_ok=True)\n",
        "\n",
        "MODEL_NAME = \"linear_regression_models_exercise.pth\"\n",
        "MODEL_SAVE_PATH = MODEL_PATH / MODEL_NAME\n",
        "\n",
        "torch.save(obj=model.state_dict(), f=MODEL_SAVE_PATH)"
      ]
    },
    {
      "cell_type": "code",
      "execution_count": 200,
      "metadata": {
        "colab": {
          "base_uri": "https://localhost:8080/"
        },
        "id": "6XlSZnLhw1Xr",
        "outputId": "af22251a-92f1-4db0-ae0d-8bd7a4edc640"
      },
      "outputs": [
        {
          "output_type": "execute_result",
          "data": {
            "text/plain": [
              "LinearRegressionModel(\n",
              "  (linear_layer): Linear(in_features=1, out_features=1, bias=True)\n",
              ")"
            ]
          },
          "metadata": {},
          "execution_count": 200
        }
      ],
      "source": [
        "#loading a model\n",
        "loaded_model = LinearRegressionModel()\n",
        "loaded_model.to(device)"
      ]
    },
    {
      "cell_type": "code",
      "execution_count": 201,
      "metadata": {
        "colab": {
          "base_uri": "https://localhost:8080/"
        },
        "id": "Rh2xqQX8x5x_",
        "outputId": "aa7bb34c-4952-47b3-b973-0d7548489896"
      },
      "outputs": [
        {
          "output_type": "execute_result",
          "data": {
            "text/plain": [
              "OrderedDict([('linear_layer.weight', tensor([[-0.0075]], device='cuda:0')),\n",
              "             ('linear_layer.bias', tensor([0.5364], device='cuda:0'))])"
            ]
          },
          "metadata": {},
          "execution_count": 201
        }
      ],
      "source": [
        "loaded_model.state_dict()"
      ]
    },
    {
      "cell_type": "code",
      "execution_count": 202,
      "metadata": {
        "colab": {
          "base_uri": "https://localhost:8080/"
        },
        "id": "T8lHzMTYx9ah",
        "outputId": "b87521c7-82c7-48f7-f495-f220d54035bd"
      },
      "outputs": [
        {
          "output_type": "execute_result",
          "data": {
            "text/plain": [
              "<All keys matched successfully>"
            ]
          },
          "metadata": {},
          "execution_count": 202
        }
      ],
      "source": [
        "loaded_model.load_state_dict(torch.load(f=MODEL_SAVE_PATH, weights_only=True))"
      ]
    },
    {
      "cell_type": "code",
      "execution_count": 203,
      "metadata": {
        "colab": {
          "base_uri": "https://localhost:8080/"
        },
        "id": "9U-Xfp5_y0UZ",
        "outputId": "8001ea35-af41-4965-866e-8d4d26a565d0"
      },
      "outputs": [
        {
          "output_type": "execute_result",
          "data": {
            "text/plain": [
              "OrderedDict([('linear_layer.weight', tensor([[0.2948]], device='cuda:0')),\n",
              "             ('linear_layer.bias', tensor([0.9099], device='cuda:0'))])"
            ]
          },
          "metadata": {},
          "execution_count": 203
        }
      ],
      "source": [
        "loaded_model.state_dict()"
      ]
    },
    {
      "cell_type": "code",
      "execution_count": 204,
      "metadata": {
        "id": "aAAG3X3U0bNy"
      },
      "outputs": [],
      "source": [
        "loaded_model.eval()\n",
        "with torch.inference_mode():\n",
        "    loaded_model_preds = loaded_model(X_test)"
      ]
    },
    {
      "cell_type": "code",
      "execution_count": 205,
      "metadata": {
        "colab": {
          "base_uri": "https://localhost:8080/"
        },
        "id": "YAc2JYTi8oxb",
        "outputId": "9555f26d-7184-41c2-ab6f-44e75a418008"
      },
      "outputs": [
        {
          "output_type": "execute_result",
          "data": {
            "text/plain": [
              "tensor([[True],\n",
              "        [True],\n",
              "        [True],\n",
              "        [True],\n",
              "        [True],\n",
              "        [True],\n",
              "        [True],\n",
              "        [True],\n",
              "        [True],\n",
              "        [True],\n",
              "        [True],\n",
              "        [True],\n",
              "        [True],\n",
              "        [True],\n",
              "        [True],\n",
              "        [True],\n",
              "        [True],\n",
              "        [True],\n",
              "        [True],\n",
              "        [True],\n",
              "        [True],\n",
              "        [True],\n",
              "        [True],\n",
              "        [True],\n",
              "        [True],\n",
              "        [True],\n",
              "        [True],\n",
              "        [True],\n",
              "        [True],\n",
              "        [True],\n",
              "        [True],\n",
              "        [True],\n",
              "        [True],\n",
              "        [True],\n",
              "        [True],\n",
              "        [True],\n",
              "        [True],\n",
              "        [True],\n",
              "        [True],\n",
              "        [True]], device='cuda:0')"
            ]
          },
          "metadata": {},
          "execution_count": 205
        }
      ],
      "source": [
        "y_preds == loaded_model_preds"
      ]
    },
    {
      "cell_type": "code",
      "execution_count": 205,
      "metadata": {
        "id": "60BUS49A8sU2"
      },
      "outputs": [],
      "source": []
    }
  ],
  "metadata": {
    "accelerator": "GPU",
    "colab": {
      "gpuType": "T4",
      "provenance": [],
      "authorship_tag": "ABX9TyPx1Pzyr/bqMZjkEr2myr4b",
      "include_colab_link": true
    },
    "kernelspec": {
      "display_name": "Python 3",
      "name": "python3"
    },
    "language_info": {
      "name": "python"
    }
  },
  "nbformat": 4,
  "nbformat_minor": 0
}